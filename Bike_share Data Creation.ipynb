{
 "cells": [
  {
   "cell_type": "markdown",
   "id": "dea0686e",
   "metadata": {},
   "source": [
    "Creating dataset to analyze bike sharing demand in Washington D.C."
   ]
  },
  {
   "cell_type": "code",
   "execution_count": 1,
   "id": "f9e2a216",
   "metadata": {},
   "outputs": [],
   "source": [
    "import pandas as pd\n",
    "import glob\n",
    "from datetime import datetime\n",
    "from sklearn.cluster import KMeans\n",
    "import config\n",
    "\n",
    "import seaborn as sb\n",
    "import matplotlib.pyplot as plt"
   ]
  },
  {
   "cell_type": "code",
   "execution_count": 2,
   "id": "2ed096c3",
   "metadata": {},
   "outputs": [],
   "source": [
    "# display all rows and columns in the dataframes\n",
    "pd.set_option('display.max_columns', 500)\n",
    "pd.set_option('display.max_rows', 500)"
   ]
  },
  {
   "cell_type": "markdown",
   "id": "cf3688b3",
   "metadata": {},
   "source": [
    "Bike sharing demand dataset"
   ]
  },
  {
   "cell_type": "code",
   "execution_count": 5,
   "id": "7f6b10cc",
   "metadata": {},
   "outputs": [],
   "source": [
    "# merge the bike sharing demand csv files into one dataframe for Washington, D.C.\n",
    "path = \"/Users/harshitchandrol/Documents/PORTFOLIO/ML/Demand Forecasting\"  # Replace with the actual path to the directory containing the CSV files\n",
    "all_files = glob.glob(path + \"/*.csv\")\n",
    "\n",
    "df_list = []\n",
    "\n",
    "for file in all_files:\n",
    "    df_comp = pd.read_csv(file)\n",
    "    df_list.append(df_comp)\n",
    "\n",
    "df_bike = pd.concat(df_list, axis=0, ignore_index=True)"
   ]
  },
  {
   "cell_type": "code",
   "execution_count": 6,
   "id": "fc9d5e52",
   "metadata": {},
   "outputs": [
    {
     "name": "stdout",
     "output_type": "stream",
     "text": [
      "(3371275, 9)\n"
     ]
    },
    {
     "data": {
      "text/html": [
       "<div>\n",
       "<style scoped>\n",
       "    .dataframe tbody tr th:only-of-type {\n",
       "        vertical-align: middle;\n",
       "    }\n",
       "\n",
       "    .dataframe tbody tr th {\n",
       "        vertical-align: top;\n",
       "    }\n",
       "\n",
       "    .dataframe thead th {\n",
       "        text-align: right;\n",
       "    }\n",
       "</style>\n",
       "<table border=\"1\" class=\"dataframe\">\n",
       "  <thead>\n",
       "    <tr style=\"text-align: right;\">\n",
       "      <th></th>\n",
       "      <th>Duration</th>\n",
       "      <th>Start date</th>\n",
       "      <th>End date</th>\n",
       "      <th>Start station number</th>\n",
       "      <th>Start station</th>\n",
       "      <th>End station number</th>\n",
       "      <th>End station</th>\n",
       "      <th>Bike number</th>\n",
       "      <th>Member type</th>\n",
       "    </tr>\n",
       "  </thead>\n",
       "  <tbody>\n",
       "    <tr>\n",
       "      <th>0</th>\n",
       "      <td>475</td>\n",
       "      <td>2012-01-01 00:04:00</td>\n",
       "      <td>2012-01-01 00:11:56</td>\n",
       "      <td>31245</td>\n",
       "      <td>7th &amp; R St NW / Shaw Library</td>\n",
       "      <td>31109</td>\n",
       "      <td>7th &amp; T St NW</td>\n",
       "      <td>W01412</td>\n",
       "      <td>Member</td>\n",
       "    </tr>\n",
       "    <tr>\n",
       "      <th>1</th>\n",
       "      <td>1162</td>\n",
       "      <td>2012-01-01 00:10:05</td>\n",
       "      <td>2012-01-01 00:29:28</td>\n",
       "      <td>31400</td>\n",
       "      <td>Georgia &amp; New Hampshire Ave NW</td>\n",
       "      <td>31103</td>\n",
       "      <td>16th &amp; Harvard St NW</td>\n",
       "      <td>W00524</td>\n",
       "      <td>Casual</td>\n",
       "    </tr>\n",
       "    <tr>\n",
       "      <th>2</th>\n",
       "      <td>1145</td>\n",
       "      <td>2012-01-01 00:10:23</td>\n",
       "      <td>2012-01-01 00:29:28</td>\n",
       "      <td>31400</td>\n",
       "      <td>Georgia &amp; New Hampshire Ave NW</td>\n",
       "      <td>31103</td>\n",
       "      <td>16th &amp; Harvard St NW</td>\n",
       "      <td>W00235</td>\n",
       "      <td>Member</td>\n",
       "    </tr>\n",
       "    <tr>\n",
       "      <th>3</th>\n",
       "      <td>485</td>\n",
       "      <td>2012-01-01 00:15:41</td>\n",
       "      <td>2012-01-01 00:23:46</td>\n",
       "      <td>31101</td>\n",
       "      <td>14th &amp; V St NW</td>\n",
       "      <td>31602</td>\n",
       "      <td>Park Rd &amp; Holmead Pl NW</td>\n",
       "      <td>W00864</td>\n",
       "      <td>Member</td>\n",
       "    </tr>\n",
       "    <tr>\n",
       "      <th>4</th>\n",
       "      <td>471</td>\n",
       "      <td>2012-01-01 00:15:42</td>\n",
       "      <td>2012-01-01 00:23:34</td>\n",
       "      <td>31102</td>\n",
       "      <td>11th &amp; Kenyon St NW</td>\n",
       "      <td>31109</td>\n",
       "      <td>7th &amp; T St NW</td>\n",
       "      <td>W00995</td>\n",
       "      <td>Member</td>\n",
       "    </tr>\n",
       "  </tbody>\n",
       "</table>\n",
       "</div>"
      ],
      "text/plain": [
       "   Duration           Start date             End date  Start station number   \n",
       "0       475  2012-01-01 00:04:00  2012-01-01 00:11:56                 31245  \\\n",
       "1      1162  2012-01-01 00:10:05  2012-01-01 00:29:28                 31400   \n",
       "2      1145  2012-01-01 00:10:23  2012-01-01 00:29:28                 31400   \n",
       "3       485  2012-01-01 00:15:41  2012-01-01 00:23:46                 31101   \n",
       "4       471  2012-01-01 00:15:42  2012-01-01 00:23:34                 31102   \n",
       "\n",
       "                    Start station  End station number   \n",
       "0    7th & R St NW / Shaw Library               31109  \\\n",
       "1  Georgia & New Hampshire Ave NW               31103   \n",
       "2  Georgia & New Hampshire Ave NW               31103   \n",
       "3                  14th & V St NW               31602   \n",
       "4             11th & Kenyon St NW               31109   \n",
       "\n",
       "               End station Bike number Member type  \n",
       "0            7th & T St NW      W01412      Member  \n",
       "1     16th & Harvard St NW      W00524      Casual  \n",
       "2     16th & Harvard St NW      W00235      Member  \n",
       "3  Park Rd & Holmead Pl NW      W00864      Member  \n",
       "4            7th & T St NW      W00995      Member  "
      ]
     },
     "execution_count": 6,
     "metadata": {},
     "output_type": "execute_result"
    }
   ],
   "source": [
    "# get overview of dataframe\n",
    "print(df_bike.shape)\n",
    "df_bike.head()"
   ]
  },
  {
   "cell_type": "code",
   "execution_count": 7,
   "id": "2cde28df",
   "metadata": {},
   "outputs": [],
   "source": [
    "# drop columns that are irrelevant\n",
    "df_bike_drop = df_bike.drop(['Duration', 'Start station', 'End station number', \n",
    "                             'End station', 'Bike number', 'End date'], axis=1)\n",
    "\n",
    "# create new column that only contains the date\n",
    "df_bike_drop['date'] = df_bike_drop['Start date'].apply(lambda x: x[:10])\n",
    "\n",
    "# drop the Start date column\n",
    "df_bike_drop.drop(['Start date'], axis=1, inplace=True)"
   ]
  },
  {
   "cell_type": "code",
   "execution_count": 8,
   "id": "9af0937b",
   "metadata": {},
   "outputs": [],
   "source": [
    "# create two new columns for number of casual and registered customers per day\n",
    "df_bike_drop['casual'] = df_bike_drop['Member type'].apply(lambda x: 1 if x == 'Casual' else 0)\n",
    "df_bike_drop['registered'] = df_bike_drop['Member type'].apply(lambda x: 1 if x == 'Member' else 0)\n",
    "\n",
    "# create new dataframe with date, casual, registered and total customers\n",
    "cust_list = ['casual', 'registered']\n",
    "df_bike_list = []\n",
    "\n",
    "for cust in cust_list:\n",
    "    series_bike_users = df_bike_drop.groupby('date')[cust].sum()\n",
    "    df_bike_users = series_bike_users.to_frame()\n",
    "    df_bike_list.append(df_bike_users)"
   ]
  },
  {
   "cell_type": "code",
   "execution_count": 9,
   "id": "216bcdac",
   "metadata": {},
   "outputs": [
    {
     "data": {
      "text/html": [
       "<div>\n",
       "<style scoped>\n",
       "    .dataframe tbody tr th:only-of-type {\n",
       "        vertical-align: middle;\n",
       "    }\n",
       "\n",
       "    .dataframe tbody tr th {\n",
       "        vertical-align: top;\n",
       "    }\n",
       "\n",
       "    .dataframe thead th {\n",
       "        text-align: right;\n",
       "    }\n",
       "</style>\n",
       "<table border=\"1\" class=\"dataframe\">\n",
       "  <thead>\n",
       "    <tr style=\"text-align: right;\">\n",
       "      <th></th>\n",
       "      <th>date</th>\n",
       "      <th>casual</th>\n",
       "      <th>registered</th>\n",
       "      <th>total_cust</th>\n",
       "    </tr>\n",
       "  </thead>\n",
       "  <tbody>\n",
       "    <tr>\n",
       "      <th>0</th>\n",
       "      <td>2010-09-20</td>\n",
       "      <td>34</td>\n",
       "      <td>178</td>\n",
       "      <td>212</td>\n",
       "    </tr>\n",
       "    <tr>\n",
       "      <th>1</th>\n",
       "      <td>2010-09-21</td>\n",
       "      <td>109</td>\n",
       "      <td>215</td>\n",
       "      <td>324</td>\n",
       "    </tr>\n",
       "    <tr>\n",
       "      <th>2</th>\n",
       "      <td>2010-09-22</td>\n",
       "      <td>117</td>\n",
       "      <td>260</td>\n",
       "      <td>377</td>\n",
       "    </tr>\n",
       "    <tr>\n",
       "      <th>3</th>\n",
       "      <td>2010-09-23</td>\n",
       "      <td>124</td>\n",
       "      <td>249</td>\n",
       "      <td>373</td>\n",
       "    </tr>\n",
       "    <tr>\n",
       "      <th>4</th>\n",
       "      <td>2010-09-24</td>\n",
       "      <td>156</td>\n",
       "      <td>206</td>\n",
       "      <td>362</td>\n",
       "    </tr>\n",
       "  </tbody>\n",
       "</table>\n",
       "</div>"
      ],
      "text/plain": [
       "         date  casual  registered  total_cust\n",
       "0  2010-09-20      34         178         212\n",
       "1  2010-09-21     109         215         324\n",
       "2  2010-09-22     117         260         377\n",
       "3  2010-09-23     124         249         373\n",
       "4  2010-09-24     156         206         362"
      ]
     },
     "execution_count": 9,
     "metadata": {},
     "output_type": "execute_result"
    }
   ],
   "source": [
    "# concat both dataframes saved in list and add new column containing total number of customers\n",
    "df_bike_cust = pd.concat(df_bike_list, axis=1)\n",
    "df_bike_cust.reset_index(inplace=True)\n",
    "df_bike_cust['total_cust'] = df_bike_cust['casual'] + df_bike_cust['registered']\n",
    "\n",
    "df_bike_cust.head()"
   ]
  },
  {
   "cell_type": "markdown",
   "id": "6b73fed0",
   "metadata": {},
   "source": [
    "#### Holiday dataset"
   ]
  },
  {
   "cell_type": "code",
   "execution_count": 10,
   "id": "4c11dcbe",
   "metadata": {},
   "outputs": [
    {
     "data": {
      "text/html": [
       "<div>\n",
       "<style scoped>\n",
       "    .dataframe tbody tr th:only-of-type {\n",
       "        vertical-align: middle;\n",
       "    }\n",
       "\n",
       "    .dataframe tbody tr th {\n",
       "        vertical-align: top;\n",
       "    }\n",
       "\n",
       "    .dataframe thead th {\n",
       "        text-align: right;\n",
       "    }\n",
       "</style>\n",
       "<table border=\"1\" class=\"dataframe\">\n",
       "  <thead>\n",
       "    <tr style=\"text-align: right;\">\n",
       "      <th></th>\n",
       "      <th>date</th>\n",
       "      <th>holiday</th>\n",
       "    </tr>\n",
       "  </thead>\n",
       "  <tbody>\n",
       "    <tr>\n",
       "      <th>0</th>\n",
       "      <td>2018-01-01</td>\n",
       "      <td>1</td>\n",
       "    </tr>\n",
       "    <tr>\n",
       "      <th>1</th>\n",
       "      <td>2018-01-15</td>\n",
       "      <td>1</td>\n",
       "    </tr>\n",
       "    <tr>\n",
       "      <th>2</th>\n",
       "      <td>2018-02-19</td>\n",
       "      <td>1</td>\n",
       "    </tr>\n",
       "    <tr>\n",
       "      <th>3</th>\n",
       "      <td>2018-04-16</td>\n",
       "      <td>1</td>\n",
       "    </tr>\n",
       "    <tr>\n",
       "      <th>4</th>\n",
       "      <td>2018-05-28</td>\n",
       "      <td>1</td>\n",
       "    </tr>\n",
       "  </tbody>\n",
       "</table>\n",
       "</div>"
      ],
      "text/plain": [
       "         date  holiday\n",
       "0  2018-01-01        1\n",
       "1  2018-01-15        1\n",
       "2  2018-02-19        1\n",
       "3  2018-04-16        1\n",
       "4  2018-05-28        1"
      ]
     },
     "execution_count": 10,
     "metadata": {},
     "output_type": "execute_result"
    }
   ],
   "source": [
    "# manual creation of dataframe containing information on holidays in Washington, D.C.\n",
    "# source for this is https://dchr.dc.gov/page/holiday-schedules-2018, https://dchr.dc.gov/page/holiday-schedules-2016-and-2017\n",
    "# https://dchr.dc.gov/page/holiday-schedules-2014-and-2015, https://dchr.dc.gov/page/holiday-schedules-2012-and-2013\n",
    "# https://dchr.dc.gov/page/holiday-schedules-2010-and-2011\n",
    "\n",
    "df_holiday = pd.DataFrame(columns=['date', 'holiday'])\n",
    "\n",
    "dates = ['2018-01-01', '2018-01-15', '2018-02-19', '2018-04-16',\n",
    "         '2018-05-28', '2018-07-04', '2018-09-03', '2018-10-08',\n",
    "         '2018-11-12', '2018-11-22', '2018-12-25', '2017-01-02',\n",
    "         '2017-01-16', '2017-01-20', '2017-02-20', '2017-04-17',\n",
    "         '2017-05-29', '2017-07-04', '2017-09-04', '2017-10-09',\n",
    "         '2017-11-10', '2017-11-23', '2017-12-25', '2016-01-01',\n",
    "         '2016-01-18', '2016-02-15', '2016-04-15', '2016-05-30',\n",
    "         '2016-07-04', '2016-09-05', '2016-10-10', '2016-11-11',\n",
    "         '2016-11-24', '2016-12-26', '2015-01-01', '2015-01-19',\n",
    "         '2015-02-16', '2015-04-16', '2015-05-25', '2015-07-03',\n",
    "         '2015-09-07', '2015-10-12', '2015-11-11', '2015-11-26',\n",
    "         '2015-12-25', '2014-01-01', '2014-01-20', '2014-02-17',\n",
    "         '2014-04-16', '2014-05-26', '2014-07-04', '2014-09-01', \n",
    "         '2014-10-13', '2014-11-11', '2014-11-27', '2014-12-25',\n",
    "         '2013-01-01', '2013-01-21', '2013-01-20', '2013-02-18', \n",
    "         '2013-04-16', '2013-05-27', '2013-07-04', '2013-09-02',\n",
    "         '2013-10-14', '2013-11-11', '2013-11-28', '2013-12-25',\n",
    "         '2012-01-02', '2012-01-16', '2012-02-20', '2012-04-16',\n",
    "         '2012-05-28', '2012-07-04', '2012-09-03', '2012-10-08',\n",
    "         '2012-11-12', '2012-11-22', '2012-12-25', '2011-01-17',\n",
    "         '2011-02-21', '2011-04-15', '2011-05-30', '2011-07-04',\n",
    "         '2011-09-05', '2011-10-10', '2011-11-11', '2011-11-24',\n",
    "         '2011-12-26']\n",
    "\n",
    "df_holiday['date'] = dates\n",
    "df_holiday['holiday'] = 1\n",
    "df_holiday.head()"
   ]
  },
  {
   "cell_type": "markdown",
   "id": "51911eee",
   "metadata": {},
   "source": [
    "#### Weather dataset"
   ]
  },
  {
   "cell_type": "code",
   "execution_count": null,
   "id": "99a840d7",
   "metadata": {},
   "outputs": [],
   "source": [
    "# read in the weather data for Washington, D.C.\n",
    "path = config.path_weather\n",
    "all_files = glob.glob(path + \"/*.csv\")\n",
    "\n",
    "df_list_weather = []\n",
    "\n",
    "for file in all_files:\n",
    "    df_comp_weather = pd.read_csv(file, low_memory=False)\n",
    "    df_list_weather.append(df_comp_weather)\n",
    "    \n",
    "df_weather = pd.concat(df_list_weather, axis=0, ignore_index=True, sort=False)"
   ]
  },
  {
   "cell_type": "code",
   "execution_count": null,
   "id": "182dbc89",
   "metadata": {},
   "outputs": [],
   "source": [
    "# number of rows and columns in weather dataframe\n",
    "df_weather.shape"
   ]
  },
  {
   "cell_type": "code",
   "execution_count": null,
   "id": "cafe72ef",
   "metadata": {},
   "outputs": [],
   "source": [
    "# get an idea of the datatypes on the weather dataframe\n",
    "df_weather.dtypes"
   ]
  },
  {
   "cell_type": "code",
   "execution_count": null,
   "id": "fe13d70c",
   "metadata": {},
   "outputs": [],
   "source": [
    "df_weather.describe(include='all')"
   ]
  },
  {
   "cell_type": "code",
   "execution_count": null,
   "id": "a5528589",
   "metadata": {},
   "outputs": [],
   "source": [
    "# show all available weather situation columns and create a list without the attribute columns\n",
    "weathersit_list = list(df_weather.columns)[12:]\n",
    "weathersit = [x for x in weathersit_list if len(x) < 5 and 'WT' in x]\n",
    "weathersit"
   ]
  },
  {
   "cell_type": "code",
   "execution_count": null,
   "id": "51ba6338",
   "metadata": {},
   "outputs": [],
   "source": [
    "# create a new data frame that contains only average temperature, windspeed, precipitation and weathersituation\n",
    "# per day across all stations in Washington, D.C.\n",
    "var_list = ['TAVG', 'TMIN', 'TMAX', 'TOBS', 'PRCP', 'AWND', weathersit]\n",
    "df_avg_list = []\n",
    "\n",
    "for var in var_list:\n",
    "    if type(var) != list:\n",
    "        data_avg_vars = df_weather.groupby('DATE')[var].mean()\n",
    "        df_avg_vars = data_avg_vars.to_frame()\n",
    "        df_avg_list.append(df_avg_vars)\n",
    "    else:\n",
    "        for sit in weathersit:\n",
    "            data_wsit = df_weather.groupby('DATE')[sit].max()\n",
    "            df_wsit = data_wsit.to_frame()\n",
    "            df_avg_list.append(df_wsit)\n",
    "            \n",
    "df_weather_aggr = pd.concat(df_avg_list, axis=1)\n",
    "df_weather_aggr"
   ]
  },
  {
   "cell_type": "code",
   "execution_count": null,
   "id": "b740312b",
   "metadata": {},
   "outputs": [],
   "source": [
    "# reset index and change column names\n",
    "df_weather_aggr.reset_index(inplace=True)\n",
    "\n",
    "df_weather_aggr = df_weather_aggr.rename(columns={'DATE': 'date', 'TAVG': 'temp_avg', 'TMAX': 'temp_max',\n",
    "                                                  'TMIN': 'temp_min', 'TOBS': 'temp_observ', 'PRCP': 'precip', \n",
    "                                                  'AWND': 'wind','WT01': 'wt_fog', 'WT02': 'wt_heavy_fog', \n",
    "                                                  'WT03': 'wt_thunder', 'WT04': 'wt_sleet', 'WT05': 'wt_hail', \n",
    "                                                  'WT06': 'wt_glaze', 'WT08':'wt_haze', 'WT09':'wt_drift_snow', \n",
    "                                                  'WT11': 'wt_high_wind', 'WT13': 'wt_mist', 'WT14': 'wt_drizzle', \n",
    "                                                  'WT15': 'wt_freeze_drizzle', 'WT16': 'wt_rain', 'WT17': 'wt_freeze_rain', \n",
    "                                                  'WT18': 'wt_snow', 'WT19': 'wt_unknown', 'WT21': 'wt_ground_fog', \n",
    "                                                  'WT22': 'wt_ice_fog'})\n",
    "df_weather_aggr.head()"
   ]
  },
  {
   "cell_type": "code",
   "execution_count": null,
   "id": "cf3b6b51",
   "metadata": {},
   "outputs": [],
   "source": [
    "# check the shape of the above dataframe\n",
    "df_weather_aggr.shape"
   ]
  },
  {
   "cell_type": "markdown",
   "id": "2a42b543",
   "metadata": {},
   "source": [
    "### Combination of all three separate datasets"
   ]
  },
  {
   "cell_type": "code",
   "execution_count": null,
   "id": "2bdf6cbd",
   "metadata": {},
   "outputs": [],
   "source": [
    "# merge the holiday dataframe with the bike customer dataframe\n",
    "df_bike_holiday = df_bike_cust.merge(df_holiday, how='left', on='date')\n",
    "\n",
    "# check the shape of the new dataframe\n",
    "df_bike_holiday.shape"
   ]
  },
  {
   "cell_type": "code",
   "execution_count": null,
   "id": "5e9a0811",
   "metadata": {},
   "outputs": [],
   "source": [
    "# merge the df_bike_holiday dataframe with the weather dataframe\n",
    "df_bike_holiday_weather = df_weather_aggr.merge(df_bike_holiday, how='left', on='date')\n",
    "\n",
    "# check the shape of the new dataframe\n",
    "df_bike_holiday_weather.shape"
   ]
  },
  {
   "cell_type": "code",
   "execution_count": null,
   "id": "231b2733",
   "metadata": {},
   "outputs": [],
   "source": [
    "# look at the new dataframe\n",
    "df_bike_holiday_weather.head()"
   ]
  },
  {
   "cell_type": "code",
   "execution_count": null,
   "id": "71184a55",
   "metadata": {},
   "outputs": [],
   "source": [
    "# write the final dataframe to a csv file\n",
    "df_bike_holiday_weather.to_csv('bike_sharing_dataset.csv', sep=',', index=False)"
   ]
  },
  {
   "cell_type": "code",
   "execution_count": null,
   "id": "f42786cd",
   "metadata": {},
   "outputs": [],
   "source": []
  },
  {
   "cell_type": "code",
   "execution_count": null,
   "id": "c8f85faa",
   "metadata": {},
   "outputs": [],
   "source": []
  },
  {
   "cell_type": "code",
   "execution_count": null,
   "id": "d3bdeefb",
   "metadata": {},
   "outputs": [],
   "source": []
  }
 ],
 "metadata": {
  "kernelspec": {
   "display_name": "Python 3 (ipykernel)",
   "language": "python",
   "name": "python3"
  },
  "language_info": {
   "codemirror_mode": {
    "name": "ipython",
    "version": 3
   },
   "file_extension": ".py",
   "mimetype": "text/x-python",
   "name": "python",
   "nbconvert_exporter": "python",
   "pygments_lexer": "ipython3",
   "version": "3.9.16"
  }
 },
 "nbformat": 4,
 "nbformat_minor": 5
}
